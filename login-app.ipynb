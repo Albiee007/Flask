{
 "cells": [
  {
   "cell_type": "code",
   "execution_count": 5,
   "id": "7adfb219",
   "metadata": {},
   "outputs": [
    {
     "name": "stdout",
     "output_type": "stream",
     "text": [
      " * Serving Flask app '__main__'\n",
      " * Debug mode: on\n"
     ]
    },
    {
     "name": "stderr",
     "output_type": "stream",
     "text": [
      "WARNING: This is a development server. Do not use it in a production deployment. Use a production WSGI server instead.\n",
      " * Running on http://127.0.0.1:5000\n",
      "Press CTRL+C to quit\n",
      " * Restarting with stat\n"
     ]
    },
    {
     "ename": "SystemExit",
     "evalue": "1",
     "output_type": "error",
     "traceback": [
      "An exception has occurred, use %tb to see the full traceback.\n",
      "\u001b[1;31mSystemExit\u001b[0m\u001b[1;31m:\u001b[0m 1\n"
     ]
    }
   ],
   "source": [
    "from flask import Flask, render_template, request, redirect, session\n",
    "from flask_mysqldb import MySQL\n",
    "\n",
    "app = Flask(__name__)\n",
    "app.secret_key = '45915d69b58f3d8951bc6bba00e54dca6ae4bce50f5e65af'\n",
    "\n",
    "# MySQL configuration\n",
    "app.config['MYSQL_HOST'] = 'localhost'\n",
    "app.config['MYSQL_USER'] = 'AlbiEe'\n",
    "app.config['MYSQL_PASSWORD'] = '3ples007'\n",
    "app.config['MYSQL_DB'] = 'share_market'\n",
    "\n",
    "mysql = MySQL(app)\n",
    "\n",
    "@app.route('/home')\n",
    "def home():\n",
    "    if 'username' in session:\n",
    "        return render_template('home.html', username=session['username'])\n",
    "    else:\n",
    "        return redirect('/login')\n",
    "\n",
    "@app.route('/login', methods=['GET', 'POST'])\n",
    "def login():\n",
    "    if request.method == 'POST':\n",
    "        # Get form data\n",
    "        username = request.form['username']\n",
    "        password = request.form['password']\n",
    "\n",
    "        # Connect to MySQL and execute query\n",
    "        cur = mysql.connection.cursor()\n",
    "        cur.execute(\"SELECT * FROM users WHERE username=%s AND password=%s\", (username, password))\n",
    "        user = cur.fetchone()\n",
    "\n",
    "        # Check if user exists in MySQL\n",
    "        if user:\n",
    "            session['username'] = user['username']\n",
    "            cur.execute(\"INSERT INTO users (username, password) VALUES (%s, %s)\", (username, password))\n",
    "            mysql.connection.commit()\n",
    "            cur.close()\n",
    "            return redirect('/home')\n",
    "        else:\n",
    "            return render_template('login.html', error='Invalid username or password')\n",
    "\n",
    "    return render_template('login.html')\n",
    "\n",
    "#To debug\n",
    "if __name__ == '__main__':\n",
    "    app.run(debug=True)\n",
    "\n",
    "\n"
   ]
  },
  {
   "cell_type": "code",
   "execution_count": null,
   "id": "35a2f380",
   "metadata": {},
   "outputs": [],
   "source": []
  }
 ],
 "metadata": {
  "kernelspec": {
   "display_name": "venv",
   "language": "python",
   "name": "python3"
  },
  "language_info": {
   "codemirror_mode": {
    "name": "ipython",
    "version": 3
   },
   "file_extension": ".py",
   "mimetype": "text/x-python",
   "name": "python",
   "nbconvert_exporter": "python",
   "pygments_lexer": "ipython3",
   "version": "3.10.8"
  },
  "vscode": {
   "interpreter": {
    "hash": "46a801b66c2881661f5f7436d9f39d19c4ff1c1cb82eb104170ddb22d2e50b80"
   }
  }
 },
 "nbformat": 4,
 "nbformat_minor": 5
}
